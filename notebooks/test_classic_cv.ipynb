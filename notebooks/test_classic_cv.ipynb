{
 "cells": [
  {
   "cell_type": "code",
   "execution_count": null,
   "metadata": {},
   "outputs": [],
   "source": [
    "import numpy as np\n",
    "import matplotlib.pyplot as plt\n",
    "from pathlib import Path\n",
    "import cv2 as cv\n",
    "from sklearn.model_selection import train_test_split"
   ]
  },
  {
   "cell_type": "code",
   "execution_count": null,
   "metadata": {},
   "outputs": [],
   "source": [
    "import torch\n",
    "import torchvision\n",
    "from torchvision import transforms\n",
    "from torch.utils.data import DataLoader"
   ]
  },
  {
   "cell_type": "code",
   "execution_count": null,
   "metadata": {},
   "outputs": [],
   "source": [
    "# merge print into one folder:\n",
    "\n",
    "roots = [\n",
    "    \"data_digits/hand\",\n",
    "    \"data_digits/print\",\n",
    "] \n",
    "\n",
    "for root in roots:\n",
    "    root = Path(root)\n",
    "\n",
    "    for d in range(1, 10):\n",
    "        (root / str(d)).mkdir(parents=True, exist_ok=True)\n",
    "    \n",
    "    files = root.rglob('*.jpg')\n",
    "\n",
    "    for file in files:\n",
    "        parent = file.parent.name\n",
    "\n",
    "        file.rename(root / parent / file.name)\n",
    "\n"
   ]
  },
  {
   "cell_type": "code",
   "execution_count": null,
   "metadata": {},
   "outputs": [],
   "source": [
    "# calculate mean and std\n",
    "\n",
    "files = list(Path(\"data_digits/\").rglob('*.jpg'))\n",
    "print(len(files))\n",
    "\n",
    "mean = 0\n",
    "std = 0\n",
    "\n",
    "for file in files:\n",
    "    img = cv.imread(file, cv.IMREAD_GRAYSCALE)\n",
    "\n",
    "    mean += img.mean()\n",
    "    std += img.std()\n",
    "\n",
    "mean /= len(files)\n",
    "std /= len(files)\n",
    "\n",
    "mean / 255, std / 255"
   ]
  },
  {
   "cell_type": "code",
   "execution_count": null,
   "metadata": {},
   "outputs": [],
   "source": [
    "# split on train and test:\n",
    "roots = [\n",
    "    \"data_digits/hand\",\n",
    "    \"data_digits/print\",\n",
    "]\n",
    "\n",
    "def create_split_cls_folders(root: Path, splits, classes):\n",
    "    for split in splits:\n",
    "        for cls in classes:\n",
    "            (root / split / cls).mkdir(parents=True, exist_ok=True)\n",
    "\n",
    "splits = ['train', 'test']\n",
    "classes = [str(x) for x in range(1, 10)]\n",
    "\n",
    "for root in roots:\n",
    "    root = Path(root)\n",
    "    files = list(root.rglob('*.jpg'))\n",
    "    print(f\"Have {len(files)}\")\n",
    "\n",
    "    create_split_cls_folders(root, splits, classes)\n",
    "\n",
    "    train_files, test_files = train_test_split(files, test_size=0.10, random_state=1)\n",
    "\n",
    "    for file in train_files:\n",
    "        cls = file.parent.name\n",
    "        file.rename(root / 'train' / cls / file.name)\n",
    "\n",
    "    for file in test_files:\n",
    "        cls = file.parent.name\n",
    "        file.rename(root / 'test' / cls / file.name)\n"
   ]
  },
  {
   "cell_type": "code",
   "execution_count": null,
   "metadata": {},
   "outputs": [],
   "source": [
    "folders = [x for x in Path('data_digits').rglob('*') if x.is_dir()]\n",
    "\n",
    "for f in folders:\n",
    "    if len(list(f.glob('*'))) == 0:\n",
    "        f.rmdir()"
   ]
  },
  {
   "cell_type": "code",
   "execution_count": null,
   "metadata": {},
   "outputs": [],
   "source": [
    "import torch\n",
    "import torch.nn as nn\n",
    "import torch.optim as optim\n",
    "import torch.nn.functional as F\n",
    "\n",
    "# Define transformations\n",
    "transform = transforms.Compose([\n",
    "    transforms.ToTensor(),\n",
    "    transforms.Grayscale(),\n",
    "    transforms.Resize((50, 50)),\n",
    "    transforms.Normalize((0.082), (0.25696)), # Normalize to mean=0.1307, std=0.3081 (MNIST stats)\n",
    "    #transforms.RandomRotation(15),\n",
    "    transforms.RandomAffine(degrees=10, translate=(0.15, 0.15), scale=(0.9, 1.1))\n",
    "    #transforms.RandomPerspective(0.1, p=0.25),\n",
    "])\n",
    "\n",
    "transform_test = transforms.Compose([\n",
    "    transforms.ToTensor(),\n",
    "    transforms.Grayscale(),\n",
    "    transforms.Resize((50, 50)),\n",
    "    transforms.Normalize((0.082), (0.25696)), # Normalize to mean=0.1307, std=0.3081 (MNIST stats)\n",
    "])"
   ]
  },
  {
   "cell_type": "code",
   "execution_count": null,
   "metadata": {},
   "outputs": [],
   "source": [
    "train_dataset_hand = torchvision.datasets.ImageFolder(root='./data_digits/hand/train', transform=transform)\n",
    "test_dataset_hand = torchvision.datasets.ImageFolder(root='./data_digits/hand/test', transform=transform_test)\n",
    "train_dataset_print = torchvision.datasets.ImageFolder(root='./data_digits/print/train', transform=transform)\n",
    "test_dataset_print = torchvision.datasets.ImageFolder(root='./data_digits/print/test', transform=transform_test)\n",
    "\n",
    "train_dataset = torch.utils.data.ConcatDataset((train_dataset_hand, train_dataset_print))\n",
    "test_dataset = torch.utils.data.ConcatDataset((test_dataset_hand, test_dataset_print))\n",
    "\n",
    "# train_dataset = train_dataset_hand\n",
    "# test_dataset = test_dataset_hand"
   ]
  },
  {
   "cell_type": "code",
   "execution_count": null,
   "metadata": {},
   "outputs": [],
   "source": [
    "len(train_dataset), len(test_dataset)"
   ]
  },
  {
   "cell_type": "code",
   "execution_count": null,
   "metadata": {},
   "outputs": [],
   "source": [
    "# DataLoaders\n",
    "train_loader = DataLoader(train_dataset, batch_size=128, shuffle=True)\n",
    "test_loader = DataLoader(test_dataset, batch_size=256, shuffle=False)"
   ]
  },
  {
   "cell_type": "code",
   "execution_count": null,
   "metadata": {},
   "outputs": [],
   "source": [
    "def calculate_params(model: nn.Module):\n",
    "    params = sum(p.numel() for p in model.parameters() if p.requires_grad)\n",
    "    return params"
   ]
  },
  {
   "cell_type": "code",
   "execution_count": null,
   "metadata": {},
   "outputs": [],
   "source": [
    "import timm\n",
    "timm.list_models('mobilenetv2*', pretrained=True)"
   ]
  },
  {
   "cell_type": "code",
   "execution_count": null,
   "metadata": {},
   "outputs": [],
   "source": [
    "import timm\n",
    "# model = timm.create_model('mobilenetv3_small_050.lamb_in1k', pretrained=True, num_classes=9, in_chans=1)\n",
    "# print(calculate_params(model)) #577161\n",
    "\n",
    "# model = timm.create_model('resnet10t.c3_in1k', pretrained=True, num_classes=9, in_chans=1)\n",
    "# print(calculate_params(model))\n",
    "\n",
    "model = timm.create_model('mobilenetv2_100.ra_in1k', pretrained=True, num_classes=9, in_chans=1)\n",
    "print(calculate_params(model))\n"
   ]
  },
  {
   "cell_type": "code",
   "execution_count": null,
   "metadata": {},
   "outputs": [],
   "source": [
    "from timm.models.mobilenetv3 import default_cfgs\n",
    "default_cfgs['mobilenetv3_small_050']"
   ]
  },
  {
   "cell_type": "code",
   "execution_count": null,
   "metadata": {},
   "outputs": [],
   "source": [
    "\n",
    "criterion = nn.CrossEntropyLoss()  # Standard loss for classification\n",
    "optimizer = optim.Adam(model.parameters(), lr=0.001)  # Adam optimizer\n",
    "scheduler = optim.lr_scheduler.ReduceLROnPlateau(optimizer=optimizer, factor=0.5, patience=5)\n"
   ]
  },
  {
   "cell_type": "code",
   "execution_count": null,
   "metadata": {},
   "outputs": [],
   "source": [
    "def test_model(model, test_loader):\n",
    "\n",
    "    model.eval()  # Set to evaluation mode\n",
    "    correct = 0\n",
    "    total = 0\n",
    "    device = 'cuda'\n",
    "\n",
    "    with torch.no_grad():  # No need to track gradients in evaluation\n",
    "        for images, labels in test_loader:\n",
    "            images, labels = images.to(device), labels.to(device)\n",
    "            outputs = model(images)\n",
    "            _, predicted = torch.max(outputs, 1)\n",
    "            total += labels.size(0)\n",
    "            correct += (predicted == labels).sum().item()\n",
    "\n",
    "    print(f\"Test Accuracy: {100 * correct / total:.2f}%\")\n",
    "    return 100 * correct / total\n"
   ]
  },
  {
   "cell_type": "code",
   "execution_count": null,
   "metadata": {},
   "outputs": [],
   "source": [
    "num_epochs = 50  # You can increase this for better accuracy\n",
    "device = 'cuda'\n",
    "model.to(device)\n",
    "\n",
    "best_score = 0\n",
    "\n",
    "for epoch in range(num_epochs):\n",
    "    model.train()  # Set model to training mode\n",
    "    running_loss = 0.0\n",
    "    \n",
    "    for images, labels in train_loader:\n",
    "        images, labels = images.to(device), labels.to(device)\n",
    "        \n",
    "        optimizer.zero_grad()  # Zero gradients from previous step\n",
    "        outputs = model(images)  # Forward pass\n",
    "        loss = criterion(outputs, labels)  # Compute loss\n",
    "        loss.backward()  # Backpropagation\n",
    "        optimizer.step()  # Update weights\n",
    "        \n",
    "        running_loss += loss.item()\n",
    "    \n",
    "    print(f\"Epoch [{epoch+1}/{num_epochs}], Loss: {running_loss/len(train_loader):.4f}\")\n",
    "\n",
    "    test_score = test_model(model, test_loader)\n",
    "\n",
    "    if test_score > best_score:\n",
    "        best_score = test_score\n",
    "        torch.save(model.state_dict(), \"best_model.pt\")\n",
    "\n",
    "    scheduler.step(running_loss, epoch=epoch)\n",
    "\n",
    "print(\"Training complete!\")\n"
   ]
  },
  {
   "cell_type": "code",
   "execution_count": null,
   "metadata": {},
   "outputs": [],
   "source": [
    "model.load_state_dict(torch.load('best_model.pt', weights_only=True))\n",
    "model.eval()"
   ]
  },
  {
   "cell_type": "code",
   "execution_count": null,
   "metadata": {},
   "outputs": [],
   "source": [
    "test_model(model, test_loader)"
   ]
  },
  {
   "cell_type": "code",
   "execution_count": null,
   "metadata": {},
   "outputs": [],
   "source": [
    "root = Path(\"data_digits/hand/test\")\n",
    "\n",
    "for digit in range(1, 10):\n",
    "    (root / str(digit)).mkdir(parents=True, exist_ok=True)"
   ]
  },
  {
   "cell_type": "code",
   "execution_count": null,
   "metadata": {},
   "outputs": [],
   "source": [
    "def viz(img):\n",
    "    plt.figure()\n",
    "    plt.imshow(img, cmap='gray')\n",
    "    plt.show()\n",
    "\n",
    "\n",
    "\n",
    "model.eval()\n",
    "root = Path(\"data_digits/hand\")\n",
    "digits_files = list(root.glob('*.jpg'))\n",
    "\n",
    "\n",
    "for file in digits_files:\n",
    "    digit = cv.imread(file, cv.IMREAD_GRAYSCALE)\n",
    "\n",
    "    inp = transform_test(digit).to(device)\n",
    "\n",
    "    with torch.no_grad():\n",
    "        output = model(inp.unsqueeze(0))\n",
    "        _, pred = torch.max(output, 1)\n",
    "\n",
    "    #viz(digit)\n",
    "    #print(test_dataset.classes[pred])\n",
    "    file.rename(file.parent / \"test\" / train_dataset.classes[pred] / file.name)"
   ]
  },
  {
   "cell_type": "code",
   "execution_count": null,
   "metadata": {},
   "outputs": [],
   "source": [
    "root = Path(\"data_digits/hand\")\n",
    "\n",
    "for digit in range(1, 10):\n",
    "    (root / str(digit)).mkdir()"
   ]
  }
 ],
 "metadata": {
  "kernelspec": {
   "display_name": "cartrack",
   "language": "python",
   "name": "python3"
  },
  "language_info": {
   "codemirror_mode": {
    "name": "ipython",
    "version": 3
   },
   "file_extension": ".py",
   "mimetype": "text/x-python",
   "name": "python",
   "nbconvert_exporter": "python",
   "pygments_lexer": "ipython3",
   "version": "3.10.14"
  }
 },
 "nbformat": 4,
 "nbformat_minor": 2
}
